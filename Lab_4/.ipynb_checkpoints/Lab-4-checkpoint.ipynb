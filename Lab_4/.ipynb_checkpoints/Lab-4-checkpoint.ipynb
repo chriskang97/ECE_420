{
 "cells": [
  {
   "cell_type": "code",
   "execution_count": 1,
   "metadata": {},
   "outputs": [],
   "source": [
    "import numpy as np\n",
    "import matplotlib.pyplot as plt\n",
    "from scipy.io.wavfile import read, write\n",
    "from numpy.fft import fft, ifft"
   ]
  },
  {
   "cell_type": "code",
   "execution_count": 57,
   "metadata": {},
   "outputs": [
    {
     "data": {
      "image/png": "[encoded data removed]",
      "text/plain": [
       "<Figure size 432x288 with 1 Axes>"
      ]
     },
     "metadata": {},
     "output_type": "display_data"
    }
   ],
   "source": [
    "FRAME_SIZE = 2048\n",
    "e_s = 3.6*(10**9)\n",
    "\n",
    "################## YOUR CODE HERE ######################\n",
    "def ece420ProcessFrame(frame, Fs):\n",
    "    freq = -1\n",
    "    isVoiced = 0\n",
    "    \n",
    "    e = 0\n",
    "    for x in frame:\n",
    "        e += x**2\n",
    "    #### YOUR CODE HERE ####\n",
    "    if e >= e_s:\n",
    "        isVoiced = 1\n",
    "        frame_fft = fft(frame)\n",
    "        autocor = ifft(frame_fft*np.conj(frame_fft))\n",
    "        autocor = autocor[0:int(FRAME_SIZE/2)]/autocor[0]\n",
    "\n",
    "    #     plt.plot(autocor)\n",
    "\n",
    "        zero_index = -1\n",
    "        i = 0\n",
    "        while zero_index < 0:\n",
    "            if np.real(autocor[i])<0:\n",
    "                zero_index = i\n",
    "\n",
    "            else:\n",
    "                i += 1\n",
    "\n",
    "    #     print(zero_index)\n",
    "\n",
    "        peak_index = []\n",
    "        peak_val = []\n",
    "        for i in range(zero_index,len(autocor)-3):\n",
    "            if autocor[i] > autocor[i-3] and autocor[i] > autocor[i+3]:\n",
    "                peak_index.append(i)\n",
    "                peak_val.append(autocor[i])\n",
    "\n",
    "    #     plt.scatter(peak_index,peak_val)\n",
    "\n",
    "    #     print(peak_index[0])\n",
    "\n",
    "        freq = Fs/peak_index[np.argmax(peak_val)]\n",
    "#     print(freq)\n",
    "    return freq\n",
    "\n",
    "\n",
    "################# GIVEN CODE BELOW #####################\n",
    "\n",
    "Fs, data = read('test_vector.wav')\n",
    "\n",
    "numFrames = int(len(data) / FRAME_SIZE)\n",
    "frequencies = np.zeros(numFrames)\n",
    "\n",
    "# frame = data[90 * FRAME_SIZE : 91 * FRAME_SIZE]\n",
    "# ece420ProcessFrame(frame.astype(float), Fs)\n",
    "for i in range(numFrames):\n",
    "    frame = data[i * FRAME_SIZE : (i + 1) * FRAME_SIZE]\n",
    "    frequencies[i] = ece420ProcessFrame(frame.astype(float), Fs)\n",
    "\n",
    "\n",
    "plt.figure()\n",
    "plt.plot(frequencies)\n",
    "plt.axis('tight')\n",
    "plt.xlabel('Frame idx')\n",
    "plt.ylabel('Hz')\n",
    "plt.title('Detected Frequencies in Hz')\n",
    "plt.show()"
   ]
  },
  {
   "cell_type": "markdown",
   "metadata": {},
   "source": [
    "1. The largest peak outside of the 0Hz region is selected as the dominant frequency.\n",
    "2. We looked for the largest peak after the first zero-crossing.\n",
    "3. For one thing, 2048 samples is a power of two, thus it is a good value for efficiently computing FFTs and IFFTs. In addition, if the frame size is too short, there will be fewer bins so the output will be less accurate. If the frame is too long, it will take a long time to compute, and in the case where there is a changing pitch, the autocorrelation may not find any peaks because the circular convolution will align dissimilar frequencies, so any noise, harmonics, or other incorrect peaks will be amplified."
   ]
  }
 ],
 "metadata": {
  "kernelspec": {
   "display_name": "Python 3",
   "language": "python",
   "name": "python3"
  },
  "language_info": {
   "codemirror_mode": {
    "name": "ipython",
    "version": 3
   },
   "file_extension": ".py",
   "mimetype": "text/x-python",
   "name": "python",
   "nbconvert_exporter": "python",
   "pygments_lexer": "ipython3",
   "version": "3.7.0"
  }
 },
 "nbformat": 4,
 "nbformat_minor": 2
}
