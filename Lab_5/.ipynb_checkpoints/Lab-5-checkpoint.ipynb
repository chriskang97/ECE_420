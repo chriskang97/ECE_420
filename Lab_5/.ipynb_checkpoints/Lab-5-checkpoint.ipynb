{
 "cells": [
  {
   "cell_type": "code",
   "execution_count": 11,
   "metadata": {},
   "outputs": [
    {
     "name": "stdout",
     "output_type": "stream",
     "text": [
      "797\n"
     ]
    },
    {
     "ename": "NameError",
     "evalue": "name 'han_win' is not defined",
     "output_type": "error",
     "traceback": [
      "\u001b[1;31m---------------------------------------------------------------------------\u001b[0m",
      "\u001b[1;31mNameError\u001b[0m                                 Traceback (most recent call last)",
      "\u001b[1;32m<ipython-input-11-fd1c0c9d08e8>\u001b[0m in \u001b[0;36m<module>\u001b[1;34m()\u001b[0m\n\u001b[0;32m     35\u001b[0m         \u001b[1;32mif\u001b[0m \u001b[0mnp\u001b[0m\u001b[1;33m.\u001b[0m\u001b[0mabs\u001b[0m\u001b[1;33m(\u001b[0m\u001b[0mepoch_marks_orig\u001b[0m\u001b[1;33m[\u001b[0m\u001b[0mj\u001b[0m\u001b[1;33m]\u001b[0m\u001b[1;33m-\u001b[0m\u001b[0mi\u001b[0m\u001b[1;33m)\u001b[0m\u001b[1;33m<=\u001b[0m\u001b[0mnp\u001b[0m\u001b[1;33m.\u001b[0m\u001b[0mabs\u001b[0m\u001b[1;33m(\u001b[0m\u001b[0mclosest_orig\u001b[0m\u001b[1;33m-\u001b[0m\u001b[0mi\u001b[0m\u001b[1;33m)\u001b[0m\u001b[1;33m:\u001b[0m\u001b[1;33m\u001b[0m\u001b[0m\n\u001b[0;32m     36\u001b[0m             \u001b[0mclosest_orig\u001b[0m \u001b[1;33m=\u001b[0m \u001b[0mepoch_marks_orig\u001b[0m\u001b[1;33m[\u001b[0m\u001b[0mj\u001b[0m\u001b[1;33m]\u001b[0m\u001b[1;33m\u001b[0m\u001b[0m\n\u001b[1;32m---> 37\u001b[1;33m     \u001b[0mwindow_out\u001b[0m \u001b[1;33m=\u001b[0m \u001b[0mhan_win\u001b[0m\u001b[1;33m[\u001b[0m\u001b[0md\u001b[0m\u001b[1;33m*\u001b[0m\u001b[0maudio_data\u001b[0m\u001b[1;33m[\u001b[0m\u001b[0mclosest_orig\u001b[0m\u001b[1;33m-\u001b[0m\u001b[0morig_epoch_spacing\u001b[0m\u001b[1;33m:\u001b[0m\u001b[0mclosest_orig\u001b[0m\u001b[1;33m+\u001b[0m\u001b[0morig_epoch_spacing\u001b[0m\u001b[1;33m+\u001b[0m\u001b[1;36m1\u001b[0m\u001b[1;33m]\u001b[0m \u001b[1;33m]\u001b[0m\u001b[1;33m\u001b[0m\u001b[0m\n\u001b[0m\u001b[0;32m     38\u001b[0m     \u001b[0maudio_out\u001b[0m\u001b[1;33m[\u001b[0m\u001b[0mi\u001b[0m\u001b[1;33m-\u001b[0m\u001b[0morig_epoch_spacing\u001b[0m\u001b[1;33m:\u001b[0m\u001b[0mi\u001b[0m\u001b[1;33m+\u001b[0m\u001b[0morig_epoch_spacing\u001b[0m\u001b[1;33m+\u001b[0m\u001b[1;36m1\u001b[0m\u001b[1;33m]\u001b[0m \u001b[1;33m=\u001b[0m \u001b[0maudio_out\u001b[0m\u001b[1;33m[\u001b[0m\u001b[0mi\u001b[0m\u001b[1;33m-\u001b[0m\u001b[0morig_epoch_spacing\u001b[0m\u001b[1;33m:\u001b[0m\u001b[0mi\u001b[0m\u001b[1;33m+\u001b[0m\u001b[0morig_epoch_spacing\u001b[0m\u001b[1;33m+\u001b[0m\u001b[1;36m1\u001b[0m\u001b[1;33m]\u001b[0m \u001b[1;33m+\u001b[0m \u001b[0mwindow_out\u001b[0m\u001b[1;33m\u001b[0m\u001b[0m\n\u001b[0;32m     39\u001b[0m \u001b[1;33m\u001b[0m\u001b[0m\n",
      "\u001b[1;31mNameError\u001b[0m: name 'han_win' is not defined"
     ]
    }
   ],
   "source": [
    "import numpy as np\n",
    "from numpy.fft import fft\n",
    "import matplotlib.pyplot as plt\n",
    "import scipy.io.wavfile as spwav\n",
    "#from mpldatacursor import datacursor\n",
    "import sys\n",
    "from IPython.display import Audio\n",
    "\n",
    "plt.style.use('ggplot')\n",
    "\n",
    "# Note: this epoch list only holds for \"test_vector_all_voiced.wav\"\n",
    "epoch_marks_orig = np.load(\"test_vector_all_voiced_epochs.npy\")\n",
    "F_s, audio_data = spwav.read(\"test_vector_all_voiced.wav\")\n",
    "N = len(audio_data)\n",
    "\n",
    "######################## YOUR CODE HERE ##############################\n",
    "\n",
    "orig_epoch_spacing = epoch_marks_orig[0]\n",
    "F_new = 100\n",
    "new_epoch_spacing = int(F_s/F_new)\n",
    "\n",
    "audio_out = np.zeros(N)\n",
    "\n",
    "print(len(epoch_marks_orig))\n",
    "han_wind = []\n",
    "for i in range(2*epoch_marks_orig[0]+1):\n",
    "    han_wind.append(0.5-0.5*np.cos(2*np.pi*i/(2*epoch_marks_orig[0])))\n",
    "        \n",
    "    \n",
    "# Suggested loop\n",
    "for i in range(orig_epoch_spacing, N-orig_epoch_spacing, new_epoch_spacing):\n",
    "    closest_orig = epoch_marks_orig[0]\n",
    "    \n",
    "    for j in range(len(epoch_marks_orig)):\n",
    "        if np.abs(epoch_marks_orig[j]-i)<=np.abs(closest_orig-i):\n",
    "            closest_orig = epoch_marks_orig[j]\n",
    "    window_out = han_wind[d*audio_data[closest_orig-orig_epoch_spacing:closest_orig+orig_epoch_spacing+1] ]\n",
    "    audio_out[i-orig_epoch_spacing:i+orig_epoch_spacing+1] = audio_out[i-orig_epoch_spacing:i+orig_epoch_spacing+1] + window_out\n",
    "\n",
    "    # https://courses.engr.illinois.edu/ece420/lab5/lab/#overlap-add-algorithm\n",
    "    # Your OLA code here\n",
    "Audio(audio_out, rate=F_s)"
   ]
  },
  {
   "cell_type": "code",
   "execution_count": null,
   "metadata": {},
   "outputs": [],
   "source": []
  }
 ],
 "metadata": {
  "kernelspec": {
   "display_name": "Python 3",
   "language": "python",
   "name": "python3"
  },
  "language_info": {
   "codemirror_mode": {
    "name": "ipython",
    "version": 3
   },
   "file_extension": ".py",
   "mimetype": "text/x-python",
   "name": "python",
   "nbconvert_exporter": "python",
   "pygments_lexer": "ipython3",
   "version": "3.7.0"
  }
 },
 "nbformat": 4,
 "nbformat_minor": 2
}
